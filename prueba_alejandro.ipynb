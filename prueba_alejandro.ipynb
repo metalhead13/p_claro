{
  "nbformat": 4,
  "nbformat_minor": 0,
  "metadata": {
    "colab": {
      "provenance": []
    },
    "kernelspec": {
      "name": "python3",
      "display_name": "Python 3"
    },
    "language_info": {
      "name": "python"
    }
  },
  "cells": [
    {
      "cell_type": "markdown",
      "source": [
        "# Prueba Técnica Perfil Desarrollador Python de Automatización de Datos Senior\n",
        "\n",
        "> Añadir blockquote\n",
        "\n"
      ],
      "metadata": {
        "id": "fUY1APKL7M98"
      }
    },
    {
      "cell_type": "markdown",
      "source": [
        "Para la correcta elaboración de esta prueba debes tener una buena conexión a internet. La prueba está compuesta por 4 tareas; las cuales debes realizar y demostrar. Es importante que a medida que vayas desarrollando la prueba le expliques al entrevistador ¿Que estás haciendo? Y ¿Para qué?\n",
        "\n",
        "*   Tener disponible tu IDE de preferencia\n",
        "*   **Duración de la prueba 120MIN**\n",
        "*  **Debes activar la cámara y compartir pantalla durante toda la prueba**\n",
        "* **Una vez finalizado el codigo en python subirlo a un repositorio y compartirlo a technology@claroinsurance.com**\n",
        "\n",
        "\n",
        "\n"
      ],
      "metadata": {
        "id": "_8oM6nG_7lVs"
      }
    },
    {
      "cell_type": "markdown",
      "source": [
        "## Tarea 1: Integración de API\n",
        "\n",
        "### Descripción:\n",
        "Como Ingeniero de Datos Senior, se te asigna la tarea de extraer datos de una API pública, procesarlos y guardarlos en un formato tabular.\n",
        "\n",
        "### Criterios de aceptación:\n",
        "- Utiliza los siguientes endpoints de la API JSONPlaceholder:\n",
        "  - [Usuarios](https://jsonplaceholder.typicode.com/users)\n",
        "  - [Álbumes](https://jsonplaceholder.typicode.com/albums)\n",
        "  - [Fotos](https://jsonplaceholder.typicode.com/photos)\n",
        "- Transforma los datos JSON extraídos en un formato tabular.\n",
        "- Agrega una nueva columna llamada `extraction_date` para registrar la fecha de extracción de los datos.\n",
        "- Asegúrate de que todos los campos en los datos extraídos se guarden como tipo `STRING`.\n",
        "- Guarda los datos en formato **Parquet**.\n",
        "- Verifica el conteo de filas:\n",
        "  - Tabla `Usuarios`: 10 registros\n",
        "  - Tabla `Álbumes`: 100 registros\n",
        "  - Tabla `Fotos`: 5000 registros.\n"
      ],
      "metadata": {
        "id": "dUgfp77aE5rc"
      }
    },
    {
      "cell_type": "code",
      "source": [
        "import pandas as pd\n",
        "import numpy as np\n",
        "import requests\n",
        "import pyarrow"
      ],
      "metadata": {
        "id": "ZSTjmQ_MJpgf"
      },
      "execution_count": 2,
      "outputs": []
    },
    {
      "cell_type": "code",
      "source": [
        "import requests\n",
        "# APIs\n",
        "url_usuarios = 'https://jsonplaceholder.typicode.com/users'\n",
        "url_albums = 'https://jsonplaceholder.typicode.com/albums'\n",
        "url_fotos = 'https://jsonplaceholder.typicode.com/photos'\n",
        "\n",
        "response1 = requests.get(url_usuarios)\n",
        "response2 = requests.get(url_albums)\n",
        "response3 = requests.get(url_fotos)"
      ],
      "metadata": {
        "id": "8sUzKvhnJrjO"
      },
      "execution_count": 3,
      "outputs": []
    },
    {
      "cell_type": "code",
      "source": [
        "df_usuarios = pd.DataFrame(response1.json())\n",
        "df_albums = pd.DataFrame(response2.json())\n",
        "df_fotos = pd.DataFrame(response3.json())"
      ],
      "metadata": {
        "id": "9dQeKyZjJ6jX"
      },
      "execution_count": 5,
      "outputs": []
    },
    {
      "cell_type": "code",
      "source": [
        "# Nuea columna\n",
        "\n",
        "df_usuarios['extraction_date'] =   \"2025-06-06\"\n",
        "df_albums['extraction_date'] =  \"2025-06-06\"\n",
        "df_fotos['extraction_date'] =  \"2025-06-06\""
      ],
      "metadata": {
        "id": "Hup5HpyJKHh1"
      },
      "execution_count": 6,
      "outputs": []
    },
    {
      "cell_type": "code",
      "source": [
        "df_usuarios.dtypes"
      ],
      "metadata": {
        "colab": {
          "base_uri": "https://localhost:8080/",
          "height": 366
        },
        "id": "UxnNW5LcLf0J",
        "outputId": "e06a183e-6618-4b04-a350-a69d6093f5cc"
      },
      "execution_count": 12,
      "outputs": [
        {
          "output_type": "execute_result",
          "data": {
            "text/plain": [
              "id                  int64\n",
              "name               object\n",
              "username           object\n",
              "email              object\n",
              "address            object\n",
              "phone              object\n",
              "website            object\n",
              "company            object\n",
              "extraction_date    object\n",
              "dtype: object"
            ],
            "text/html": [
              "<div>\n",
              "<style scoped>\n",
              "    .dataframe tbody tr th:only-of-type {\n",
              "        vertical-align: middle;\n",
              "    }\n",
              "\n",
              "    .dataframe tbody tr th {\n",
              "        vertical-align: top;\n",
              "    }\n",
              "\n",
              "    .dataframe thead th {\n",
              "        text-align: right;\n",
              "    }\n",
              "</style>\n",
              "<table border=\"1\" class=\"dataframe\">\n",
              "  <thead>\n",
              "    <tr style=\"text-align: right;\">\n",
              "      <th></th>\n",
              "      <th>0</th>\n",
              "    </tr>\n",
              "  </thead>\n",
              "  <tbody>\n",
              "    <tr>\n",
              "      <th>id</th>\n",
              "      <td>int64</td>\n",
              "    </tr>\n",
              "    <tr>\n",
              "      <th>name</th>\n",
              "      <td>object</td>\n",
              "    </tr>\n",
              "    <tr>\n",
              "      <th>username</th>\n",
              "      <td>object</td>\n",
              "    </tr>\n",
              "    <tr>\n",
              "      <th>email</th>\n",
              "      <td>object</td>\n",
              "    </tr>\n",
              "    <tr>\n",
              "      <th>address</th>\n",
              "      <td>object</td>\n",
              "    </tr>\n",
              "    <tr>\n",
              "      <th>phone</th>\n",
              "      <td>object</td>\n",
              "    </tr>\n",
              "    <tr>\n",
              "      <th>website</th>\n",
              "      <td>object</td>\n",
              "    </tr>\n",
              "    <tr>\n",
              "      <th>company</th>\n",
              "      <td>object</td>\n",
              "    </tr>\n",
              "    <tr>\n",
              "      <th>extraction_date</th>\n",
              "      <td>object</td>\n",
              "    </tr>\n",
              "  </tbody>\n",
              "</table>\n",
              "</div><br><label><b>dtype:</b> object</label>"
            ]
          },
          "metadata": {},
          "execution_count": 12
        }
      ]
    },
    {
      "cell_type": "code",
      "source": [
        "### Aseguramos que los tipos de datos extraídos sean STRING > OBJECT\n",
        "df_albums.dtypes"
      ],
      "metadata": {
        "colab": {
          "base_uri": "https://localhost:8080/",
          "height": 210
        },
        "id": "vP8ATBz3LZTw",
        "outputId": "be14b19b-a99b-40f0-ad62-e3dd93c01220"
      },
      "execution_count": 13,
      "outputs": [
        {
          "output_type": "execute_result",
          "data": {
            "text/plain": [
              "userId              int64\n",
              "id                  int64\n",
              "title              object\n",
              "extraction_date    object\n",
              "dtype: object"
            ],
            "text/html": [
              "<div>\n",
              "<style scoped>\n",
              "    .dataframe tbody tr th:only-of-type {\n",
              "        vertical-align: middle;\n",
              "    }\n",
              "\n",
              "    .dataframe tbody tr th {\n",
              "        vertical-align: top;\n",
              "    }\n",
              "\n",
              "    .dataframe thead th {\n",
              "        text-align: right;\n",
              "    }\n",
              "</style>\n",
              "<table border=\"1\" class=\"dataframe\">\n",
              "  <thead>\n",
              "    <tr style=\"text-align: right;\">\n",
              "      <th></th>\n",
              "      <th>0</th>\n",
              "    </tr>\n",
              "  </thead>\n",
              "  <tbody>\n",
              "    <tr>\n",
              "      <th>userId</th>\n",
              "      <td>int64</td>\n",
              "    </tr>\n",
              "    <tr>\n",
              "      <th>id</th>\n",
              "      <td>int64</td>\n",
              "    </tr>\n",
              "    <tr>\n",
              "      <th>title</th>\n",
              "      <td>object</td>\n",
              "    </tr>\n",
              "    <tr>\n",
              "      <th>extraction_date</th>\n",
              "      <td>object</td>\n",
              "    </tr>\n",
              "  </tbody>\n",
              "</table>\n",
              "</div><br><label><b>dtype:</b> object</label>"
            ]
          },
          "metadata": {},
          "execution_count": 13
        }
      ]
    },
    {
      "cell_type": "code",
      "source": [
        "### Aseguramos que los tipos de datos extraídos sean STRING > OBJECT\n",
        "df_fotos.dtypes"
      ],
      "metadata": {
        "colab": {
          "base_uri": "https://localhost:8080/",
          "height": 272
        },
        "id": "iuP0TmrXLd_F",
        "outputId": "d04f2076-f1b8-4186-c80d-948ccfc76057"
      },
      "execution_count": 14,
      "outputs": [
        {
          "output_type": "execute_result",
          "data": {
            "text/plain": [
              "albumId             int64\n",
              "id                  int64\n",
              "title              object\n",
              "url                object\n",
              "thumbnailUrl       object\n",
              "extraction_date    object\n",
              "dtype: object"
            ],
            "text/html": [
              "<div>\n",
              "<style scoped>\n",
              "    .dataframe tbody tr th:only-of-type {\n",
              "        vertical-align: middle;\n",
              "    }\n",
              "\n",
              "    .dataframe tbody tr th {\n",
              "        vertical-align: top;\n",
              "    }\n",
              "\n",
              "    .dataframe thead th {\n",
              "        text-align: right;\n",
              "    }\n",
              "</style>\n",
              "<table border=\"1\" class=\"dataframe\">\n",
              "  <thead>\n",
              "    <tr style=\"text-align: right;\">\n",
              "      <th></th>\n",
              "      <th>0</th>\n",
              "    </tr>\n",
              "  </thead>\n",
              "  <tbody>\n",
              "    <tr>\n",
              "      <th>albumId</th>\n",
              "      <td>int64</td>\n",
              "    </tr>\n",
              "    <tr>\n",
              "      <th>id</th>\n",
              "      <td>int64</td>\n",
              "    </tr>\n",
              "    <tr>\n",
              "      <th>title</th>\n",
              "      <td>object</td>\n",
              "    </tr>\n",
              "    <tr>\n",
              "      <th>url</th>\n",
              "      <td>object</td>\n",
              "    </tr>\n",
              "    <tr>\n",
              "      <th>thumbnailUrl</th>\n",
              "      <td>object</td>\n",
              "    </tr>\n",
              "    <tr>\n",
              "      <th>extraction_date</th>\n",
              "      <td>object</td>\n",
              "    </tr>\n",
              "  </tbody>\n",
              "</table>\n",
              "</div><br><label><b>dtype:</b> object</label>"
            ]
          },
          "metadata": {},
          "execution_count": 14
        }
      ]
    },
    {
      "cell_type": "code",
      "source": [
        "# Guardar en formato parquet\n",
        "\n",
        "df_usuarios.to_parquet('df_usuarios.parquet.gzip', compression='gzip')\n",
        "df_albums.to_parquet('df_albums.parquet.gzip', compression='gzip')\n",
        "df_fotos.to_parquet('df_fotos.parquet.gzip', compression='gzip')"
      ],
      "metadata": {
        "id": "whe4fVU8KHDn"
      },
      "execution_count": 7,
      "outputs": []
    },
    {
      "cell_type": "code",
      "source": [
        "# Verificar conteo de filas\n",
        "df_usuarios.shape\n"
      ],
      "metadata": {
        "colab": {
          "base_uri": "https://localhost:8080/"
        },
        "id": "LAg97VhkKd4m",
        "outputId": "9a1d7f7e-5fc9-471a-bbec-613a4a38a230"
      },
      "execution_count": 8,
      "outputs": [
        {
          "output_type": "execute_result",
          "data": {
            "text/plain": [
              "(100, 4)"
            ]
          },
          "metadata": {},
          "execution_count": 8
        }
      ]
    },
    {
      "cell_type": "code",
      "source": [
        "df_albums.shape"
      ],
      "metadata": {
        "colab": {
          "base_uri": "https://localhost:8080/"
        },
        "id": "at1aMwTLKcwh",
        "outputId": "fb23bb06-da7a-4502-bc55-e76698e69b6f"
      },
      "execution_count": 9,
      "outputs": [
        {
          "output_type": "execute_result",
          "data": {
            "text/plain": [
              "(100, 4)"
            ]
          },
          "metadata": {},
          "execution_count": 9
        }
      ]
    },
    {
      "cell_type": "code",
      "execution_count": 10,
      "metadata": {
        "id": "BCz4voKWE4JO",
        "colab": {
          "base_uri": "https://localhost:8080/"
        },
        "outputId": "81630a09-379c-4bda-d090-d17174b2c499"
      },
      "outputs": [
        {
          "output_type": "execute_result",
          "data": {
            "text/plain": [
              "(5000, 6)"
            ]
          },
          "metadata": {},
          "execution_count": 10
        }
      ],
      "source": [
        "df_fotos.shape"
      ]
    },
    {
      "cell_type": "markdown",
      "source": [
        "## Tarea 2: Tarea de Transformación\n",
        "\n",
        "### Notas:\n",
        "Utiliza el archivo Parquet generado a partir de la tabla `Usuarios` en el paso de extracción.\n",
        "\n",
        "### Descripción:\n",
        "La columna `phone` en la tabla `Usuarios` contiene formatos inconsistentes. Limpia y transforma esta columna aplicando las siguientes reglas:\n",
        "\n",
        "- **Regla 1**: Elimina todos los caracteres especiales del número de teléfono para que solo queden caracteres numéricos.  \n",
        "  - **Ejemplo**: `210.067.6132 → 2100676132`\n",
        "- **Regla 2**: Si un número de teléfono incluye una extensión (indicada por `x`), separa la extensión en una nueva columna llamada `ext`.  \n",
        "  - **Ejemplo**: `586.493.6943 x140 → phone: 5864936943, ext: 140`\n",
        "\n",
        "Guarda los datos limpios en un nuevo archivo Parquet.\n",
        "\n",
        "### Criterios de aceptación:\n",
        "- La columna `phone` está libre de caracteres especiales.\n",
        "- Las extensiones se separan correctamente en la columna `ext`.\n",
        "- La tabla final limpia se guarda en formato Parquet."
      ],
      "metadata": {
        "id": "iKFARw77FMkt"
      }
    },
    {
      "cell_type": "code",
      "source": [
        "# Leer archivos parquet\n",
        "\n",
        "pq_usuarios = pd.read_parquet('df_usuarios.parquet.gzip')\n",
        "pq_albums = pd.read_parquet('df_albums.parquet.gzip')\n",
        "pq_fotos = pd.read_parquet('df_fotos.parquet.gzip')"
      ],
      "metadata": {
        "id": "UYOhyA_1Loc-"
      },
      "execution_count": 15,
      "outputs": []
    },
    {
      "cell_type": "code",
      "source": [
        "# Copiamos y asignamos a nuevos dfs\n",
        "usuarios = pq_usuarios.copy()\n",
        "usuarios['phone'].head(11)"
      ],
      "metadata": {
        "colab": {
          "base_uri": "https://localhost:8080/",
          "height": 398
        },
        "id": "4XjK_PVpLoHV",
        "outputId": "a3c0e87c-291a-4058-88bc-0ec3b6c4f294"
      },
      "execution_count": 16,
      "outputs": [
        {
          "output_type": "execute_result",
          "data": {
            "text/plain": [
              "0    1-770-736-8031 x56442\n",
              "1      010-692-6593 x09125\n",
              "2           1-463-123-4447\n",
              "3        493-170-9623 x156\n",
              "4            (254)954-1289\n",
              "5     1-477-935-8478 x6430\n",
              "6             210.067.6132\n",
              "7        586.493.6943 x140\n",
              "8     (775)976-6794 x41206\n",
              "9             024-648-3804\n",
              "Name: phone, dtype: object"
            ],
            "text/html": [
              "<div>\n",
              "<style scoped>\n",
              "    .dataframe tbody tr th:only-of-type {\n",
              "        vertical-align: middle;\n",
              "    }\n",
              "\n",
              "    .dataframe tbody tr th {\n",
              "        vertical-align: top;\n",
              "    }\n",
              "\n",
              "    .dataframe thead th {\n",
              "        text-align: right;\n",
              "    }\n",
              "</style>\n",
              "<table border=\"1\" class=\"dataframe\">\n",
              "  <thead>\n",
              "    <tr style=\"text-align: right;\">\n",
              "      <th></th>\n",
              "      <th>phone</th>\n",
              "    </tr>\n",
              "  </thead>\n",
              "  <tbody>\n",
              "    <tr>\n",
              "      <th>0</th>\n",
              "      <td>1-770-736-8031 x56442</td>\n",
              "    </tr>\n",
              "    <tr>\n",
              "      <th>1</th>\n",
              "      <td>010-692-6593 x09125</td>\n",
              "    </tr>\n",
              "    <tr>\n",
              "      <th>2</th>\n",
              "      <td>1-463-123-4447</td>\n",
              "    </tr>\n",
              "    <tr>\n",
              "      <th>3</th>\n",
              "      <td>493-170-9623 x156</td>\n",
              "    </tr>\n",
              "    <tr>\n",
              "      <th>4</th>\n",
              "      <td>(254)954-1289</td>\n",
              "    </tr>\n",
              "    <tr>\n",
              "      <th>5</th>\n",
              "      <td>1-477-935-8478 x6430</td>\n",
              "    </tr>\n",
              "    <tr>\n",
              "      <th>6</th>\n",
              "      <td>210.067.6132</td>\n",
              "    </tr>\n",
              "    <tr>\n",
              "      <th>7</th>\n",
              "      <td>586.493.6943 x140</td>\n",
              "    </tr>\n",
              "    <tr>\n",
              "      <th>8</th>\n",
              "      <td>(775)976-6794 x41206</td>\n",
              "    </tr>\n",
              "    <tr>\n",
              "      <th>9</th>\n",
              "      <td>024-648-3804</td>\n",
              "    </tr>\n",
              "  </tbody>\n",
              "</table>\n",
              "</div><br><label><b>dtype:</b> object</label>"
            ]
          },
          "metadata": {},
          "execution_count": 16
        }
      ]
    },
    {
      "cell_type": "code",
      "source": [
        "#  Limpia y transforma\n",
        "usuarios['phone'] =  usuarios['phone'].str.replace('-', '')\n",
        "usuarios['phone'] =  usuarios['phone'].str.replace('.', '')\n",
        "usuarios['phone'] =  usuarios['phone'].str.replace('(', '')\n",
        "usuarios['phone'] =  usuarios['phone'].str.replace(')', '')\n",
        "usuarios['phone'] =  usuarios['phone'].str.replace('x', 'ext:')\n",
        "usuarios['phone'] =  usuarios['phone'].str.replace(' ', ',')"
      ],
      "metadata": {
        "id": "RGfHiVTWLnw2"
      },
      "execution_count": 17,
      "outputs": []
    },
    {
      "cell_type": "code",
      "source": [
        "# Resultado limpio\n",
        "usuarios['phone'].head(11)"
      ],
      "metadata": {
        "colab": {
          "base_uri": "https://localhost:8080/",
          "height": 398
        },
        "id": "1lpZb32kPFg8",
        "outputId": "a7bede29-9f45-4356-dc27-f068b8dacf27"
      },
      "execution_count": 19,
      "outputs": [
        {
          "output_type": "execute_result",
          "data": {
            "text/plain": [
              "0    17707368031,ext:56442\n",
              "1     0106926593,ext:09125\n",
              "2              14631234447\n",
              "3       4931709623,ext:156\n",
              "4               2549541289\n",
              "5     14779358478,ext:6430\n",
              "6               2100676132\n",
              "7       5864936943,ext:140\n",
              "8     7759766794,ext:41206\n",
              "9               0246483804\n",
              "Name: phone, dtype: object"
            ],
            "text/html": [
              "<div>\n",
              "<style scoped>\n",
              "    .dataframe tbody tr th:only-of-type {\n",
              "        vertical-align: middle;\n",
              "    }\n",
              "\n",
              "    .dataframe tbody tr th {\n",
              "        vertical-align: top;\n",
              "    }\n",
              "\n",
              "    .dataframe thead th {\n",
              "        text-align: right;\n",
              "    }\n",
              "</style>\n",
              "<table border=\"1\" class=\"dataframe\">\n",
              "  <thead>\n",
              "    <tr style=\"text-align: right;\">\n",
              "      <th></th>\n",
              "      <th>phone</th>\n",
              "    </tr>\n",
              "  </thead>\n",
              "  <tbody>\n",
              "    <tr>\n",
              "      <th>0</th>\n",
              "      <td>17707368031,ext:56442</td>\n",
              "    </tr>\n",
              "    <tr>\n",
              "      <th>1</th>\n",
              "      <td>0106926593,ext:09125</td>\n",
              "    </tr>\n",
              "    <tr>\n",
              "      <th>2</th>\n",
              "      <td>14631234447</td>\n",
              "    </tr>\n",
              "    <tr>\n",
              "      <th>3</th>\n",
              "      <td>4931709623,ext:156</td>\n",
              "    </tr>\n",
              "    <tr>\n",
              "      <th>4</th>\n",
              "      <td>2549541289</td>\n",
              "    </tr>\n",
              "    <tr>\n",
              "      <th>5</th>\n",
              "      <td>14779358478,ext:6430</td>\n",
              "    </tr>\n",
              "    <tr>\n",
              "      <th>6</th>\n",
              "      <td>2100676132</td>\n",
              "    </tr>\n",
              "    <tr>\n",
              "      <th>7</th>\n",
              "      <td>5864936943,ext:140</td>\n",
              "    </tr>\n",
              "    <tr>\n",
              "      <th>8</th>\n",
              "      <td>7759766794,ext:41206</td>\n",
              "    </tr>\n",
              "    <tr>\n",
              "      <th>9</th>\n",
              "      <td>0246483804</td>\n",
              "    </tr>\n",
              "  </tbody>\n",
              "</table>\n",
              "</div><br><label><b>dtype:</b> object</label>"
            ]
          },
          "metadata": {},
          "execution_count": 19
        }
      ]
    },
    {
      "cell_type": "code",
      "source": [
        "# Guardamos de nuevo  en formato parquet\n",
        "\n",
        "usuarios.to_parquet('users_cleaned.parquet.gzip', compression='gzip')\n"
      ],
      "metadata": {
        "id": "a3iy1GSWPf4C"
      },
      "execution_count": 23,
      "outputs": []
    },
    {
      "cell_type": "markdown",
      "source": [
        "## Tarea 3: Cargar Datos en una Solución en la Nube\n",
        "\n",
        "### Descripción:\n",
        "Como Ingeniero de Datos Senior, se te asigna la tarea de cargar la tabla `users_df` limpia del paso de transformación en una solución de almacenamiento de datos basada en la nube, específicamente Google BigQuery.\n",
        "\n",
        "### Criterios de aceptación:\n",
        "- Escribe pseudocódigo para cargar el archivo `users_cleaned.parquet` en una tabla de BigQuery.\n",
        "- Incluye comentarios detallados que expliquen:\n",
        "  - Los pasos necesarios para configurar el acceso a BigQuery (por ejemplo, configuración de credenciales de cuenta de servicio).\n",
        "  - Cómo crear un conjunto de datos y una tabla en BigQuery.\n",
        "- El pseudocódigo debe incluir:\n",
        "  - Cargar el archivo Parquet en una tabla de BigQuery.\n",
        "  - Verificar la carga imprimiendo un mensaje de éxito o manejando errores.\n"
      ],
      "metadata": {
        "id": "vx16gxNjFy1R"
      }
    },
    {
      "cell_type": "code",
      "source": [
        "# ver adjunto"
      ],
      "metadata": {
        "id": "nW_vs_GmZL0I"
      },
      "execution_count": 24,
      "outputs": []
    },
    {
      "cell_type": "code",
      "source": [
        "# Pseudocódigo sencillo para cargar users_cleaned.parquet a BigQuery\n",
        "\n",
        "1. CONFIGURAR CREDENCIALES\n",
        "   • Definir ruta al archivo de credenciales JSON de la cuenta de servicio:\n",
        "     GOOGLE_APPLICATION_CREDENTIALS = \"/00034/a/bigquery-service-account.json\"\n",
        "   • (En el entorno) Exportar variable de entorno:\n",
        "     export GOOGLE_APPLICATION_CREDENTIALS=\"/00034/a/bigquery-service-account.json\"\n",
        "\n",
        "2. INICIALIZAR CLIENTE DE BIGQUERY\n",
        "   • CLIENTE ← bigquery.Client(PROJECT_ID = \"Copia de Copia de prueba_espaniol_de\")\n",
        "\n",
        "3. VERIFICAR O CREAR DATASET\n",
        "   • DATASET_REF ← CLIENTE.dataset(\"analytics_dataset\")\n",
        "   • Intentar:\n",
        "       CLIENTE.get_dataset(DATASET_REF)\n",
        "       → Si existe, imprimir \"Dataset existe\"\n",
        "     Capturar NotFound:\n",
        "       DATASET_OBJ ← bigquery.Dataset(DATASET_REF)\n",
        "       DATASET_OBJ.location ← \"US\"\n",
        "       CLIENTE.create_dataset(DATASET_OBJ)\n",
        "       → Imprimir \"Dataset creado\"\n",
        "\n",
        "4. PREPARAR REFERENCIA A LA TABLA\n",
        "   • TABLE_REF ← DATASET_REF.table(\"users_cleaned\")\n",
        "\n",
        "5. CONFIGURAR JOB DE CARGA\n",
        "   • JOB_CONFIG ← new LoadJobConfig()\n",
        "   • JOB_CONFIG.source_format ← PARQUET\n",
        "   • JOB_CONFIG.write_disposition ← WRITE_TRUNCATE\n",
        "   • (Opcional) Definir esquema manual en JOB_CONFIG.schema\n",
        "\n",
        "6. EJECUTAR JOB DE CARGA\n",
        "   Si PARQUET_URI comienza con \"gs://\":\n",
        "     • LOAD_JOB ← CLIENTE.load_table_from_uri(\n",
        "         source_uri = PARQUET_URI,\n",
        "         destination = TABLE_REF,\n",
        "         job_config = JOB_CONFIG\n",
        "       )\n",
        "   Sino:\n",
        "     • Abrir archivo local en modo binario:\n",
        "         ARCHIVO ← abrir(PARQUET_URI, \"rb\")\n",
        "       LOAD_JOB ← CLIENTE.load_table_from_file(\n",
        "         file_obj = ARCHIVO,\n",
        "         destination = TABLE_REF,\n",
        "         job_config = JOB_CONFIG\n",
        "       )\n",
        "   • Imprimir \"Carga iniciada. ID del job: \" + LOAD_JOB.job_id\n",
        "   • Esperar a que LOAD_JOB termine (por ejemplo, LOAD_JOB.result(timeout=600))\n",
        "     Capturar excepciones:\n",
        "       → Imprimir \"Error en carga: \" + mensaje de error\n",
        "       → Terminar proceso\n",
        "\n",
        "7. VERIFICAR RESULTADO (OPCIONAL)\n",
        "   • TABLA ← CLIENTE.get_table(TABLE_REF)\n",
        "   • Imprimir \"Número de registros en tablas: \" + TABLA.num_rows\n",
        "\n",
        "8. FINALIZAR\n",
        "   • Imprimir \"Proceso de carga completado con éxito\"\n",
        "\n",
        "\n",
        "\n"
      ],
      "metadata": {
        "id": "yohpRpfNja9-"
      },
      "execution_count": null,
      "outputs": []
    },
    {
      "cell_type": "markdown",
      "source": [
        "## Tarea 4. Analisis, diseño y normalización de BD"
      ],
      "metadata": {
        "id": "3_ev_RL445hn"
      }
    },
    {
      "cell_type": "markdown",
      "source": [
        "**Contexto del negocio:**\n",
        "\n",
        "Claro es un broker de seguros que proporciona servicios a agencias y agentes de seguros, promoviendo su éxito en la venta de pólizas de seguros.\n",
        "\n",
        "\n",
        "Una Agencia de seguros ***puede tener N niveles jerárquicos de agencias hijas asociadas***  (sub agencias); de las agencias se manejan datos como (nombre, dirección, etc). Por su parte, las agencias tienen agentes de seguros quienes son los encargados de vender pólizas de seguros a los clientes finales. Se utilizan datos como: nombre cliente, teléfono, correo, número de póliza, tipo de póliza, fecha inicio y fin de la póliza, nivel póliza, carrier o aseguradora de la póliza, línea de negocio de la póliza, nombre del agente, teléfono del agente, NPN del agente, entre otros. Por otro lado, cada carrier o aseguradora puede operar con una o múltiples líneas de negocio y una línea de negocio puede ser ofrecida por uno o varios carriers. Las líneas de negocio son: BAC, vidas. dental y Sub. En el caso de carriers o aseguradoras existen muchas, entre las más famosas están: Javier, Oscar, Andres, cruz roja, Sura, entre otras. Cabe destacar que las pólizas son vendidas por un agente a un cliente y están vinculadas a un carrier o aseguradora  y una línea de negocio.\n"
      ],
      "metadata": {
        "id": "l-s2u3Hk5p7K"
      }
    },
    {
      "cell_type": "markdown",
      "source": [
        "**Aspectos a evaluar:**\n",
        "\n",
        "\n",
        "*   Diseñar un modelo datos en un diagrama de Entidad relación normalizado (3FN) (utilice la herramienta de su preferencia para crear el diagrama, se debe subir al repositorio)\n",
        "\n",
        "*   Minimize redundancias en el modelo propuesto, que facilite la consulta y análisis de información; garantizando la consistencia de datos.\n",
        "\n",
        "*  Contemple dentro del diseño;las entidades, atributos, cardinalidades y relaciones (identificar claves primarias y foráneas).\n",
        "*  Proporcionar un modelo que sea escalable y facilite la incorporación de nuevos datos.\n",
        "\n",
        "*   Explique cuántas tablas saldrían de la normalización de la base, de acuerdo al diagrama propuesto, explicando el propósito de cada tabla y su relacionamiento.\n",
        "\n",
        "\n",
        "*   Describa cómo realizaría las siguientes consultas SQL para responder a estas preguntas :\n",
        "\n",
        "       1.   Obtener todas las subagencias de una agencia raíz\n",
        "       2.   Extraer las Pólizas por carrier y línea de negocio\n",
        "\n",
        "\n",
        "\n",
        "\n",
        "\n",
        "\n",
        "\n",
        "\n",
        "\n",
        "\n",
        "\n",
        "\n",
        "\n"
      ],
      "metadata": {
        "id": "nH5w5t5W6Vvb"
      }
    },
    {
      "cell_type": "code",
      "source": [
        "# Ver adjunto"
      ],
      "metadata": {
        "id": "Yn41PGkXZNwo"
      },
      "execution_count": 25,
      "outputs": []
    },
    {
      "cell_type": "code",
      "source": [
        "erDiagram\n",
        "    AGENCIA ||--o{ AGENCIA : \"tiene subagencias\"\n",
        "    AGENCIA ||--o{ AGENTE : \"adscribe\"\n",
        "    AGENTE ||--o{ POLIZA : \"vende\"\n",
        "    CLIENTE ||--o{ POLIZA : \"contrata\"\n",
        "    CARRIER ||--o{ CARRIER_LINEA : \"opera\"\n",
        "    LINEA_NEGOCIO ||--o{ CARRIER_LINEA : \"es operada por\"\n",
        "    CARRIER_LINEA ||--o{ POLIZA : \"valida\"\n",
        "    CARRIER ||--o{ POLIZA : \"asegura\"\n",
        "    LINEA_NEGOCIO ||--o{ POLIZA : \"clasifica\"\n",
        "\n",
        "    AGENCIA {\n",
        "        ID_AGENCIA        int      PK\n",
        "        ID_AGENCIA_PADRE  int      FK\n",
        "        NOMBRE_AGENCIA    string\n",
        "        DIRECCION         string\n",
        "        TELEFONO          string\n",
        "        EMAIL             string\n",
        "        NIVEL_JERARQUICO  int\n",
        "        FECHA_REGISTRO    date\n",
        "    }\n",
        "\n",
        "    AGENTE {\n",
        "        ID_AGENTE        int      PK\n",
        "        ID_AGENCIA       int      FK\n",
        "        NOMBRE_AGENTE    string\n",
        "        TELEFONO_AGENTE  string\n",
        "        EMAIL_AGENTE     string\n",
        "        NPN_AGENTE       string\n",
        "        ACTIVO           boolean\n",
        "        FECHA_INGRESO    date\n",
        "    }\n",
        "\n",
        "    CLIENTE {\n",
        "        ID_CLIENTE      int      PK\n",
        "        NOMBRE_CLIENTE  string\n",
        "        TELEFONO        string\n",
        "        CORREO          string\n",
        "        DIRECCION       string\n",
        "        FECHA_REGISTRO  date\n",
        "    }\n",
        "\n",
        "    CARRIER {\n",
        "        ID_CARRIER      int      PK\n",
        "        NOMBRE_CARRIER  string\n",
        "        DESCRIPCION     string\n",
        "        ACTIVO          boolean\n",
        "    }\n",
        "\n",
        "    LINEA_NEGOCIO {\n",
        "        ID_LINEA       int      PK\n",
        "        NOMBRE_LINEA   string\n",
        "        DESCRIPCION    string\n",
        "    }\n",
        "\n",
        "    CARRIER_LINEA {\n",
        "        ID_CARRIER     int      PK FK\n",
        "        ID_LINEA       int      PK FK\n",
        "        ACTIVO         boolean\n",
        "        FECHA_INICIO   date\n",
        "    }\n",
        "\n",
        "    POLIZA {\n",
        "        ID_POLIZA       int      PK\n",
        "        NUMERO_POLIZA   string\n",
        "        ID_CLIENTE      int      FK\n",
        "        ID_AGENTE       int      FK\n",
        "        ID_CARRIER      int      FK\n",
        "        ID_LINEA        int      FK\n",
        "        TIPO_POLIZA     string\n",
        "        FECHA_INICIO    date\n",
        "        FECHA_FIN       date\n",
        "        NIVEL_POLIZA    string\n",
        "        PRIMA           decimal\n",
        "        ESTADO          string\n",
        "        FECHA_CREACION  date\n",
        "    }\n"
      ],
      "metadata": {
        "id": "9hJkO_oGF0vh"
      },
      "execution_count": null,
      "outputs": []
    },
    {
      "cell_type": "code",
      "source": [],
      "metadata": {
        "id": "milfuCkoWucC"
      },
      "execution_count": null,
      "outputs": []
    },
    {
      "cell_type": "markdown",
      "source": [],
      "metadata": {
        "id": "Dr1IB8lhXBu4"
      }
    },
    {
      "cell_type": "markdown",
      "source": [],
      "metadata": {
        "id": "M-Yy2CGJWwXC"
      }
    },
    {
      "cell_type": "code",
      "source": [],
      "metadata": {
        "id": "RIJL929oWhT8"
      },
      "execution_count": null,
      "outputs": []
    },
    {
      "cell_type": "markdown",
      "source": [],
      "metadata": {
        "id": "zB2LpmZdWi22"
      }
    }
  ]
}