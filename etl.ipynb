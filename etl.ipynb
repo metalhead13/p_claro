{
  "cells": [
    {
      "cell_type": "markdown",
      "metadata": {
        "id": "dUgfp77aE5rc"
      },
      "source": [
        "## Tarea 1: Integración de API\n",
        "\n",
        "- Utiliza los siguientes endpoints de la API JSONPlaceholder:\n",
        "  - [Usuarios](https://jsonplaceholder.typicode.com/users)\n",
        "  - [Álbumes](https://jsonplaceholder.typicode.com/albums)\n",
        "  - [Fotos](https://jsonplaceholder.typicode.com/photos)\n",
        "- Transforma los datos JSON extraídos en un formato tabular.\n",
        "- Agrega una nueva columna llamada `extraction_date` para registrar la fecha de extracción de los datos.\n",
        "- Asegúrate de que todos los campos en los datos extraídos se guarden como tipo `STRING`.\n",
        "- Guarda los datos en formato **Parquet**.\n",
        "- Verifica el conteo de filas:\n",
        "  - Tabla `Usuarios`: 10 registros\n",
        "  - Tabla `Álbumes`: 100 registros\n",
        "  - Tabla `Fotos`: 5000 registros.\n"
      ]
    },
    {
      "cell_type": "code",
      "execution_count": 2,
      "metadata": {
        "id": "ZSTjmQ_MJpgf"
      },
      "outputs": [],
      "source": [
        "import pandas as pd\n",
        "import numpy as np\n",
        "import requests\n",
        "import pyarrow"
      ]
    },
    {
      "cell_type": "code",
      "execution_count": 3,
      "metadata": {
        "id": "8sUzKvhnJrjO"
      },
      "outputs": [],
      "source": [
        "import requests\n",
        "# APIs\n",
        "url_usuarios = 'https://jsonplaceholder.typicode.com/users'\n",
        "url_albums = 'https://jsonplaceholder.typicode.com/albums'\n",
        "url_fotos = 'https://jsonplaceholder.typicode.com/photos'\n",
        "\n",
        "response1 = requests.get(url_usuarios)\n",
        "response2 = requests.get(url_albums)\n",
        "response3 = requests.get(url_fotos)"
      ]
    },
    {
      "cell_type": "code",
      "execution_count": 5,
      "metadata": {
        "id": "9dQeKyZjJ6jX"
      },
      "outputs": [],
      "source": [
        "df_usuarios = pd.DataFrame(response1.json())\n",
        "df_albums = pd.DataFrame(response2.json())\n",
        "df_fotos = pd.DataFrame(response3.json())"
      ]
    },
    {
      "cell_type": "code",
      "execution_count": 6,
      "metadata": {
        "id": "Hup5HpyJKHh1"
      },
      "outputs": [],
      "source": [
        "# Nuea columna\n",
        "\n",
        "df_usuarios['extraction_date'] =   \"2025-06-06\"\n",
        "df_albums['extraction_date'] =  \"2025-06-06\"\n",
        "df_fotos['extraction_date'] =  \"2025-06-06\""
      ]
    },
    {
      "cell_type": "code",
      "execution_count": 12,
      "metadata": {
        "colab": {
          "base_uri": "https://localhost:8080/",
          "height": 366
        },
        "id": "UxnNW5LcLf0J",
        "outputId": "e06a183e-6618-4b04-a350-a69d6093f5cc"
      },
      "outputs": [
        {
          "data": {
            "text/html": [
              "<div>\n",
              "<style scoped>\n",
              "    .dataframe tbody tr th:only-of-type {\n",
              "        vertical-align: middle;\n",
              "    }\n",
              "\n",
              "    .dataframe tbody tr th {\n",
              "        vertical-align: top;\n",
              "    }\n",
              "\n",
              "    .dataframe thead th {\n",
              "        text-align: right;\n",
              "    }\n",
              "</style>\n",
              "<table border=\"1\" class=\"dataframe\">\n",
              "  <thead>\n",
              "    <tr style=\"text-align: right;\">\n",
              "      <th></th>\n",
              "      <th>0</th>\n",
              "    </tr>\n",
              "  </thead>\n",
              "  <tbody>\n",
              "    <tr>\n",
              "      <th>id</th>\n",
              "      <td>int64</td>\n",
              "    </tr>\n",
              "    <tr>\n",
              "      <th>name</th>\n",
              "      <td>object</td>\n",
              "    </tr>\n",
              "    <tr>\n",
              "      <th>username</th>\n",
              "      <td>object</td>\n",
              "    </tr>\n",
              "    <tr>\n",
              "      <th>email</th>\n",
              "      <td>object</td>\n",
              "    </tr>\n",
              "    <tr>\n",
              "      <th>address</th>\n",
              "      <td>object</td>\n",
              "    </tr>\n",
              "    <tr>\n",
              "      <th>phone</th>\n",
              "      <td>object</td>\n",
              "    </tr>\n",
              "    <tr>\n",
              "      <th>website</th>\n",
              "      <td>object</td>\n",
              "    </tr>\n",
              "    <tr>\n",
              "      <th>company</th>\n",
              "      <td>object</td>\n",
              "    </tr>\n",
              "    <tr>\n",
              "      <th>extraction_date</th>\n",
              "      <td>object</td>\n",
              "    </tr>\n",
              "  </tbody>\n",
              "</table>\n",
              "</div><br><label><b>dtype:</b> object</label>"
            ],
            "text/plain": [
              "id                  int64\n",
              "name               object\n",
              "username           object\n",
              "email              object\n",
              "address            object\n",
              "phone              object\n",
              "website            object\n",
              "company            object\n",
              "extraction_date    object\n",
              "dtype: object"
            ]
          },
          "execution_count": 12,
          "metadata": {},
          "output_type": "execute_result"
        }
      ],
      "source": [
        "df_usuarios.dtypes"
      ]
    },
    {
      "cell_type": "code",
      "execution_count": 13,
      "metadata": {
        "colab": {
          "base_uri": "https://localhost:8080/",
          "height": 210
        },
        "id": "vP8ATBz3LZTw",
        "outputId": "be14b19b-a99b-40f0-ad62-e3dd93c01220"
      },
      "outputs": [
        {
          "data": {
            "text/html": [
              "<div>\n",
              "<style scoped>\n",
              "    .dataframe tbody tr th:only-of-type {\n",
              "        vertical-align: middle;\n",
              "    }\n",
              "\n",
              "    .dataframe tbody tr th {\n",
              "        vertical-align: top;\n",
              "    }\n",
              "\n",
              "    .dataframe thead th {\n",
              "        text-align: right;\n",
              "    }\n",
              "</style>\n",
              "<table border=\"1\" class=\"dataframe\">\n",
              "  <thead>\n",
              "    <tr style=\"text-align: right;\">\n",
              "      <th></th>\n",
              "      <th>0</th>\n",
              "    </tr>\n",
              "  </thead>\n",
              "  <tbody>\n",
              "    <tr>\n",
              "      <th>userId</th>\n",
              "      <td>int64</td>\n",
              "    </tr>\n",
              "    <tr>\n",
              "      <th>id</th>\n",
              "      <td>int64</td>\n",
              "    </tr>\n",
              "    <tr>\n",
              "      <th>title</th>\n",
              "      <td>object</td>\n",
              "    </tr>\n",
              "    <tr>\n",
              "      <th>extraction_date</th>\n",
              "      <td>object</td>\n",
              "    </tr>\n",
              "  </tbody>\n",
              "</table>\n",
              "</div><br><label><b>dtype:</b> object</label>"
            ],
            "text/plain": [
              "userId              int64\n",
              "id                  int64\n",
              "title              object\n",
              "extraction_date    object\n",
              "dtype: object"
            ]
          },
          "execution_count": 13,
          "metadata": {},
          "output_type": "execute_result"
        }
      ],
      "source": [
        "### Aseguramos que los tipos de datos extraídos sean STRING > OBJECT\n",
        "df_albums.dtypes"
      ]
    },
    {
      "cell_type": "code",
      "execution_count": 14,
      "metadata": {
        "colab": {
          "base_uri": "https://localhost:8080/",
          "height": 272
        },
        "id": "iuP0TmrXLd_F",
        "outputId": "d04f2076-f1b8-4186-c80d-948ccfc76057"
      },
      "outputs": [
        {
          "data": {
            "text/html": [
              "<div>\n",
              "<style scoped>\n",
              "    .dataframe tbody tr th:only-of-type {\n",
              "        vertical-align: middle;\n",
              "    }\n",
              "\n",
              "    .dataframe tbody tr th {\n",
              "        vertical-align: top;\n",
              "    }\n",
              "\n",
              "    .dataframe thead th {\n",
              "        text-align: right;\n",
              "    }\n",
              "</style>\n",
              "<table border=\"1\" class=\"dataframe\">\n",
              "  <thead>\n",
              "    <tr style=\"text-align: right;\">\n",
              "      <th></th>\n",
              "      <th>0</th>\n",
              "    </tr>\n",
              "  </thead>\n",
              "  <tbody>\n",
              "    <tr>\n",
              "      <th>albumId</th>\n",
              "      <td>int64</td>\n",
              "    </tr>\n",
              "    <tr>\n",
              "      <th>id</th>\n",
              "      <td>int64</td>\n",
              "    </tr>\n",
              "    <tr>\n",
              "      <th>title</th>\n",
              "      <td>object</td>\n",
              "    </tr>\n",
              "    <tr>\n",
              "      <th>url</th>\n",
              "      <td>object</td>\n",
              "    </tr>\n",
              "    <tr>\n",
              "      <th>thumbnailUrl</th>\n",
              "      <td>object</td>\n",
              "    </tr>\n",
              "    <tr>\n",
              "      <th>extraction_date</th>\n",
              "      <td>object</td>\n",
              "    </tr>\n",
              "  </tbody>\n",
              "</table>\n",
              "</div><br><label><b>dtype:</b> object</label>"
            ],
            "text/plain": [
              "albumId             int64\n",
              "id                  int64\n",
              "title              object\n",
              "url                object\n",
              "thumbnailUrl       object\n",
              "extraction_date    object\n",
              "dtype: object"
            ]
          },
          "execution_count": 14,
          "metadata": {},
          "output_type": "execute_result"
        }
      ],
      "source": [
        "### Aseguramos que los tipos de datos extraídos sean STRING > OBJECT\n",
        "df_fotos.dtypes"
      ]
    },
    {
      "cell_type": "code",
      "execution_count": 7,
      "metadata": {
        "id": "whe4fVU8KHDn"
      },
      "outputs": [],
      "source": [
        "# Guardar en formato parquet\n",
        "\n",
        "df_usuarios.to_parquet('df_usuarios.parquet.gzip', compression='gzip')\n",
        "df_albums.to_parquet('df_albums.parquet.gzip', compression='gzip')\n",
        "df_fotos.to_parquet('df_fotos.parquet.gzip', compression='gzip')"
      ]
    },
    {
      "cell_type": "code",
      "execution_count": 8,
      "metadata": {
        "colab": {
          "base_uri": "https://localhost:8080/"
        },
        "id": "LAg97VhkKd4m",
        "outputId": "9a1d7f7e-5fc9-471a-bbec-613a4a38a230"
      },
      "outputs": [
        {
          "data": {
            "text/plain": [
              "(100, 4)"
            ]
          },
          "execution_count": 8,
          "metadata": {},
          "output_type": "execute_result"
        }
      ],
      "source": [
        "# Verificar conteo de filas\n",
        "df_usuarios.shape\n"
      ]
    },
    {
      "cell_type": "code",
      "execution_count": 9,
      "metadata": {
        "colab": {
          "base_uri": "https://localhost:8080/"
        },
        "id": "at1aMwTLKcwh",
        "outputId": "fb23bb06-da7a-4502-bc55-e76698e69b6f"
      },
      "outputs": [
        {
          "data": {
            "text/plain": [
              "(100, 4)"
            ]
          },
          "execution_count": 9,
          "metadata": {},
          "output_type": "execute_result"
        }
      ],
      "source": [
        "df_albums.shape"
      ]
    },
    {
      "cell_type": "code",
      "execution_count": 10,
      "metadata": {
        "colab": {
          "base_uri": "https://localhost:8080/"
        },
        "id": "BCz4voKWE4JO",
        "outputId": "81630a09-379c-4bda-d090-d17174b2c499"
      },
      "outputs": [
        {
          "data": {
            "text/plain": [
              "(5000, 6)"
            ]
          },
          "execution_count": 10,
          "metadata": {},
          "output_type": "execute_result"
        }
      ],
      "source": [
        "df_fotos.shape"
      ]
    },
    {
      "cell_type": "markdown",
      "metadata": {
        "id": "iKFARw77FMkt"
      },
      "source": [
        "## Tarea 2: Tarea de Transformación\n",
        "\n",
        "### Notas:\n",
        "Utiliza el archivo Parquet generado a partir de la tabla `Usuarios` en el paso de extracción.\n",
        "\n",
        "### Descripción:\n",
        "La columna `phone` en la tabla `Usuarios` contiene formatos inconsistentes. Limpia y transforma esta columna aplicando las siguientes reglas:\n",
        "\n",
        "- **Regla 1**: Elimina todos los caracteres especiales del número de teléfono para que solo queden caracteres numéricos.  \n",
        "  - **Ejemplo**: `210.067.6132 → 2100676132`\n",
        "- **Regla 2**: Si un número de teléfono incluye una extensión (indicada por `x`), separa la extensión en una nueva columna llamada `ext`.  \n",
        "  - **Ejemplo**: `586.493.6943 x140 → phone: 5864936943, ext: 140`\n",
        "\n",
        "Guarda los datos limpios en un nuevo archivo Parquet.\n",
        "\n",
        "### Criterios de aceptación:\n",
        "- La columna `phone` está libre de caracteres especiales.\n",
        "- Las extensiones se separan correctamente en la columna `ext`.\n",
        "- La tabla final limpia se guarda en formato Parquet."
      ]
    },
    {
      "cell_type": "code",
      "execution_count": 15,
      "metadata": {
        "id": "UYOhyA_1Loc-"
      },
      "outputs": [],
      "source": [
        "# Leer archivos parquet\n",
        "\n",
        "pq_usuarios = pd.read_parquet('df_usuarios.parquet.gzip')\n",
        "pq_albums = pd.read_parquet('df_albums.parquet.gzip')\n",
        "pq_fotos = pd.read_parquet('df_fotos.parquet.gzip')"
      ]
    },
    {
      "cell_type": "code",
      "execution_count": 16,
      "metadata": {
        "colab": {
          "base_uri": "https://localhost:8080/",
          "height": 398
        },
        "id": "4XjK_PVpLoHV",
        "outputId": "a3c0e87c-291a-4058-88bc-0ec3b6c4f294"
      },
      "outputs": [
        {
          "data": {
            "text/html": [
              "<div>\n",
              "<style scoped>\n",
              "    .dataframe tbody tr th:only-of-type {\n",
              "        vertical-align: middle;\n",
              "    }\n",
              "\n",
              "    .dataframe tbody tr th {\n",
              "        vertical-align: top;\n",
              "    }\n",
              "\n",
              "    .dataframe thead th {\n",
              "        text-align: right;\n",
              "    }\n",
              "</style>\n",
              "<table border=\"1\" class=\"dataframe\">\n",
              "  <thead>\n",
              "    <tr style=\"text-align: right;\">\n",
              "      <th></th>\n",
              "      <th>phone</th>\n",
              "    </tr>\n",
              "  </thead>\n",
              "  <tbody>\n",
              "    <tr>\n",
              "      <th>0</th>\n",
              "      <td>1-770-736-8031 x56442</td>\n",
              "    </tr>\n",
              "    <tr>\n",
              "      <th>1</th>\n",
              "      <td>010-692-6593 x09125</td>\n",
              "    </tr>\n",
              "    <tr>\n",
              "      <th>2</th>\n",
              "      <td>1-463-123-4447</td>\n",
              "    </tr>\n",
              "    <tr>\n",
              "      <th>3</th>\n",
              "      <td>493-170-9623 x156</td>\n",
              "    </tr>\n",
              "    <tr>\n",
              "      <th>4</th>\n",
              "      <td>(254)954-1289</td>\n",
              "    </tr>\n",
              "    <tr>\n",
              "      <th>5</th>\n",
              "      <td>1-477-935-8478 x6430</td>\n",
              "    </tr>\n",
              "    <tr>\n",
              "      <th>6</th>\n",
              "      <td>210.067.6132</td>\n",
              "    </tr>\n",
              "    <tr>\n",
              "      <th>7</th>\n",
              "      <td>586.493.6943 x140</td>\n",
              "    </tr>\n",
              "    <tr>\n",
              "      <th>8</th>\n",
              "      <td>(775)976-6794 x41206</td>\n",
              "    </tr>\n",
              "    <tr>\n",
              "      <th>9</th>\n",
              "      <td>024-648-3804</td>\n",
              "    </tr>\n",
              "  </tbody>\n",
              "</table>\n",
              "</div><br><label><b>dtype:</b> object</label>"
            ],
            "text/plain": [
              "0    1-770-736-8031 x56442\n",
              "1      010-692-6593 x09125\n",
              "2           1-463-123-4447\n",
              "3        493-170-9623 x156\n",
              "4            (254)954-1289\n",
              "5     1-477-935-8478 x6430\n",
              "6             210.067.6132\n",
              "7        586.493.6943 x140\n",
              "8     (775)976-6794 x41206\n",
              "9             024-648-3804\n",
              "Name: phone, dtype: object"
            ]
          },
          "execution_count": 16,
          "metadata": {},
          "output_type": "execute_result"
        }
      ],
      "source": [
        "# Copiamos y asignamos a nuevos dfs\n",
        "usuarios = pq_usuarios.copy()\n",
        "usuarios['phone'].head(11)"
      ]
    },
    {
      "cell_type": "code",
      "execution_count": 17,
      "metadata": {
        "id": "RGfHiVTWLnw2"
      },
      "outputs": [],
      "source": [
        "#  Limpia y transforma\n",
        "usuarios['phone'] =  usuarios['phone'].str.replace('-', '')\n",
        "usuarios['phone'] =  usuarios['phone'].str.replace('.', '')\n",
        "usuarios['phone'] =  usuarios['phone'].str.replace('(', '')\n",
        "usuarios['phone'] =  usuarios['phone'].str.replace(')', '')\n",
        "usuarios['phone'] =  usuarios['phone'].str.replace('x', 'ext:')\n",
        "usuarios['phone'] =  usuarios['phone'].str.replace(' ', ',')"
      ]
    },
    {
      "cell_type": "code",
      "execution_count": 19,
      "metadata": {
        "colab": {
          "base_uri": "https://localhost:8080/",
          "height": 398
        },
        "id": "1lpZb32kPFg8",
        "outputId": "a7bede29-9f45-4356-dc27-f068b8dacf27"
      },
      "outputs": [
        {
          "data": {
            "text/html": [
              "<div>\n",
              "<style scoped>\n",
              "    .dataframe tbody tr th:only-of-type {\n",
              "        vertical-align: middle;\n",
              "    }\n",
              "\n",
              "    .dataframe tbody tr th {\n",
              "        vertical-align: top;\n",
              "    }\n",
              "\n",
              "    .dataframe thead th {\n",
              "        text-align: right;\n",
              "    }\n",
              "</style>\n",
              "<table border=\"1\" class=\"dataframe\">\n",
              "  <thead>\n",
              "    <tr style=\"text-align: right;\">\n",
              "      <th></th>\n",
              "      <th>phone</th>\n",
              "    </tr>\n",
              "  </thead>\n",
              "  <tbody>\n",
              "    <tr>\n",
              "      <th>0</th>\n",
              "      <td>17707368031,ext:56442</td>\n",
              "    </tr>\n",
              "    <tr>\n",
              "      <th>1</th>\n",
              "      <td>0106926593,ext:09125</td>\n",
              "    </tr>\n",
              "    <tr>\n",
              "      <th>2</th>\n",
              "      <td>14631234447</td>\n",
              "    </tr>\n",
              "    <tr>\n",
              "      <th>3</th>\n",
              "      <td>4931709623,ext:156</td>\n",
              "    </tr>\n",
              "    <tr>\n",
              "      <th>4</th>\n",
              "      <td>2549541289</td>\n",
              "    </tr>\n",
              "    <tr>\n",
              "      <th>5</th>\n",
              "      <td>14779358478,ext:6430</td>\n",
              "    </tr>\n",
              "    <tr>\n",
              "      <th>6</th>\n",
              "      <td>2100676132</td>\n",
              "    </tr>\n",
              "    <tr>\n",
              "      <th>7</th>\n",
              "      <td>5864936943,ext:140</td>\n",
              "    </tr>\n",
              "    <tr>\n",
              "      <th>8</th>\n",
              "      <td>7759766794,ext:41206</td>\n",
              "    </tr>\n",
              "    <tr>\n",
              "      <th>9</th>\n",
              "      <td>0246483804</td>\n",
              "    </tr>\n",
              "  </tbody>\n",
              "</table>\n",
              "</div><br><label><b>dtype:</b> object</label>"
            ],
            "text/plain": [
              "0    17707368031,ext:56442\n",
              "1     0106926593,ext:09125\n",
              "2              14631234447\n",
              "3       4931709623,ext:156\n",
              "4               2549541289\n",
              "5     14779358478,ext:6430\n",
              "6               2100676132\n",
              "7       5864936943,ext:140\n",
              "8     7759766794,ext:41206\n",
              "9               0246483804\n",
              "Name: phone, dtype: object"
            ]
          },
          "execution_count": 19,
          "metadata": {},
          "output_type": "execute_result"
        }
      ],
      "source": [
        "# Resultado limpio\n",
        "usuarios['phone'].head(11)"
      ]
    },
    {
      "cell_type": "code",
      "execution_count": 23,
      "metadata": {
        "id": "a3iy1GSWPf4C"
      },
      "outputs": [],
      "source": [
        "# Guardamos de nuevo  en formato parquet\n",
        "\n",
        "usuarios.to_parquet('users_cleaned.parquet.gzip', compression='gzip')\n"
      ]
    },
    {
      "cell_type": "markdown",
      "metadata": {
        "id": "vx16gxNjFy1R"
      },
      "source": [
        "## Tarea 3: Cargar Datos en una Solución en la Nube\n",
        "\n",
        "### Descripción:\n",
        "Como Ingeniero de Datos Senior, se te asigna la tarea de cargar la tabla `users_df` limpia del paso de transformación en una solución de almacenamiento de datos basada en la nube, específicamente Google BigQuery.\n",
        "\n",
        "### Criterios de aceptación:\n",
        "- Escribe pseudocódigo para cargar el archivo `users_cleaned.parquet` en una tabla de BigQuery.\n",
        "- Incluye comentarios detallados que expliquen:\n",
        "  - Los pasos necesarios para configurar el acceso a BigQuery (por ejemplo, configuración de credenciales de cuenta de servicio).\n",
        "  - Cómo crear un conjunto de datos y una tabla en BigQuery.\n",
        "- El pseudocódigo debe incluir:\n",
        "  - Cargar el archivo Parquet en una tabla de BigQuery.\n",
        "  - Verificar la carga imprimiendo un mensaje de éxito o manejando errores.\n"
      ]
    },
    {
      "cell_type": "code",
      "execution_count": 24,
      "metadata": {
        "id": "nW_vs_GmZL0I"
      },
      "outputs": [],
      "source": [
        "# ver adjunto"
      ]
    },
    {
      "cell_type": "code",
      "execution_count": null,
      "metadata": {
        "id": "yohpRpfNja9-"
      },
      "outputs": [],
      "source": [
        "# Pseudocódigo sencillo para cargar users_cleaned.parquet a BigQuery\n",
        "\n",
        "1. CONFIGURAR CREDENCIALES\n",
        "   • Definir ruta al archivo de credenciales JSON de la cuenta de servicio:\n",
        "     GOOGLE_APPLICATION_CREDENTIALS = \"/00034/a/bigquery-service-account.json\"\n",
        "   • (En el entorno) Exportar variable de entorno:\n",
        "     export GOOGLE_APPLICATION_CREDENTIALS=\"/00034/a/bigquery-service-account.json\"\n",
        "\n",
        "2. INICIALIZAR CLIENTE DE BIGQUERY\n",
        "   • CLIENTE ← bigquery.Client(PROJECT_ID = \"Copia de Copia de prueba_espaniol_de\")\n",
        "\n",
        "3. VERIFICAR O CREAR DATASET\n",
        "   • DATASET_REF ← CLIENTE.dataset(\"analytics_dataset\")\n",
        "   • Intentar:\n",
        "       CLIENTE.get_dataset(DATASET_REF)\n",
        "       → Si existe, imprimir \"Dataset existe\"\n",
        "     Capturar NotFound:\n",
        "       DATASET_OBJ ← bigquery.Dataset(DATASET_REF)\n",
        "       DATASET_OBJ.location ← \"US\"\n",
        "       CLIENTE.create_dataset(DATASET_OBJ)\n",
        "       → Imprimir \"Dataset creado\"\n",
        "\n",
        "4. PREPARAR REFERENCIA A LA TABLA\n",
        "   • TABLE_REF ← DATASET_REF.table(\"users_cleaned\")\n",
        "\n",
        "5. CONFIGURAR JOB DE CARGA\n",
        "   • JOB_CONFIG ← new LoadJobConfig()\n",
        "   • JOB_CONFIG.source_format ← PARQUET\n",
        "   • JOB_CONFIG.write_disposition ← WRITE_TRUNCATE\n",
        "   • (Opcional) Definir esquema manual en JOB_CONFIG.schema\n",
        "\n",
        "6. EJECUTAR JOB DE CARGA\n",
        "   Si PARQUET_URI comienza con \"gs://\":\n",
        "     • LOAD_JOB ← CLIENTE.load_table_from_uri(\n",
        "         source_uri = PARQUET_URI,\n",
        "         destination = TABLE_REF,\n",
        "         job_config = JOB_CONFIG\n",
        "       )\n",
        "   Sino:\n",
        "     • Abrir archivo local en modo binario:\n",
        "         ARCHIVO ← abrir(PARQUET_URI, \"rb\")\n",
        "       LOAD_JOB ← CLIENTE.load_table_from_file(\n",
        "         file_obj = ARCHIVO,\n",
        "         destination = TABLE_REF,\n",
        "         job_config = JOB_CONFIG\n",
        "       )\n",
        "   • Imprimir \"Carga iniciada. ID del job: \" + LOAD_JOB.job_id\n",
        "   • Esperar a que LOAD_JOB termine (por ejemplo, LOAD_JOB.result(timeout=600))\n",
        "     Capturar excepciones:\n",
        "       → Imprimir \"Error en carga: \" + mensaje de error\n",
        "       → Terminar proceso\n",
        "\n",
        "7. VERIFICAR RESULTADO (OPCIONAL)\n",
        "   • TABLA ← CLIENTE.get_table(TABLE_REF)\n",
        "   • Imprimir \"Número de registros en tablas: \" + TABLA.num_rows\n",
        "\n",
        "8. FINALIZAR\n",
        "   • Imprimir \"Proceso de carga completado con éxito\"\n",
        "\n",
        "\n",
        "\n"
      ]
    }
  ],
  "metadata": {
    "colab": {
      "provenance": []
    },
    "kernelspec": {
      "display_name": "Python 3",
      "name": "python3"
    },
    "language_info": {
      "name": "python"
    }
  },
  "nbformat": 4,
  "nbformat_minor": 0
}
